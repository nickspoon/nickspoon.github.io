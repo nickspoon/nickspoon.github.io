{
 "cells": [
  {
   "cell_type": "markdown",
   "id": "7eedf1bc-4e8a-48ee-9b8c-71e47adadc92",
   "metadata": {},
   "source": [
    "# The Elitzur-Vaidman bomb experiment\n",
    "\n",
    "Your task is to improve the bomb-detecting strategy in this notebook to satisfy the following guarantee: given an error parameter $\\varepsilon$, output an experiment that detects a bomb without triggering it with probability $1 - \\varepsilon$."
   ]
  },
  {
   "cell_type": "code",
   "execution_count": null,
   "id": "29f512e6-4ec4-42d1-8e23-2a4f48b46d97",
   "metadata": {},
   "outputs": [],
   "source": [
    "import numpy as np\n",
    "\n",
    "# Importing standard Qiskit libraries\n",
    "from qiskit import QuantumCircuit, ClassicalRegister, QuantumRegister, transpile, Aer, IBMQ\n",
    "from qiskit.tools.jupyter import *\n",
    "from qiskit.visualization import *\n",
    "from ibm_quantum_widgets import *\n",
    "from qiskit.providers.aer import QasmSimulator\n",
    "from math import pi\n",
    "from ibm_quantum_widgets import draw_circuit\n",
    "\n",
    "# Loading your IBM Quantum account(s)\n",
    "provider = IBMQ.load_account()\n",
    "backend = Aer.get_backend('qasm_simulator')"
   ]
  },
  {
   "cell_type": "code",
   "execution_count": null,
   "id": "8a3a3d24-faa2-4353-a8db-80313f58ae3b",
   "metadata": {},
   "outputs": [],
   "source": [
    "b = QuantumCircuit(1, 1, name='Bomb')\n",
    "b.measure(0, 0)\n",
    "bomb = b.to_instruction()\n",
    "\n",
    "nb = QuantumCircuit(1, 1, name='No bomb')\n",
    "nb.id(0)\n",
    "no_bomb = nb.to_instruction()"
   ]
  },
  {
   "cell_type": "code",
   "execution_count": null,
   "id": "99c87fb8-a516-453f-a7a1-708b9e64c68b",
   "metadata": {},
   "outputs": [],
   "source": [
    "def elitzur_vaidman(black_box, eps): \n",
    "    # --------- #\n",
    "    ### EDIT HERE ### \n",
    "    circuit = QuantumCircuit(1, 2)\n",
    "  \n",
    "    circuit.h(0)\n",
    "    circuit.append(black_box, qargs=[0], cargs=[0])\n",
    "    circuit.h(0)\n",
    "    circuit.measure(0, 1)\n",
    "    # --------- #\n",
    "    \n",
    "    job = backend.run(transpile(circuit, backend), shots=1024)\n",
    "    results = {'Bomb': 0, 'BOOM!': 0, 'No bomb': 0}\n",
    "    for outcome, frequency in job.result().get_counts().items():\n",
    "        if '1' in outcome[1:]:\n",
    "            results['BOOM!'] += frequency\n",
    "        # --------- #\n",
    "        ### EDIT HERE ###\n",
    "        elif outcome[0] == '0':\n",
    "        # --------- #     \n",
    "            results['No bomb'] += frequency\n",
    "        else:\n",
    "            results['Bomb'] += frequency\n",
    "    print(results)"
   ]
  },
  {
   "cell_type": "code",
   "execution_count": null,
   "id": "cc47429a-e1f4-4c20-8345-cfd1af3c9a93",
   "metadata": {},
   "outputs": [],
   "source": [
    "for eps in [0.5, 0.1, 0.01, 0.001]:\n",
    "    elitzur_vaidman(no_bomb, eps)"
   ]
  },
  {
   "cell_type": "code",
   "execution_count": null,
   "id": "8a0c4991-f08c-4ead-a68b-5975b4681acd",
   "metadata": {},
   "outputs": [],
   "source": [
    "for eps in [0.5, 0.1, 0.01, 0.001]:\n",
    "    elitzur_vaidman(bomb, eps)"
   ]
  },
  {
   "cell_type": "code",
   "execution_count": null,
   "id": "59c75fe9-f54f-4ffa-a203-eb9cf593721b",
   "metadata": {},
   "outputs": [],
   "source": [
    "# Feel free to include graphs/plots/visualisations here; but only the section in the elitzur_vaidman function will be marked."
   ]
  }
 ],
 "metadata": {
  "kernelspec": {
   "display_name": "Python 3 (ipykernel)",
   "language": "python",
   "name": "python3"
  },
  "language_info": {
   "codemirror_mode": {
    "name": "ipython",
    "version": 3
   },
   "file_extension": ".py",
   "mimetype": "text/x-python",
   "name": "python",
   "nbconvert_exporter": "python",
   "pygments_lexer": "ipython3",
   "version": "3.8.13"
  },
  "widgets": {
   "application/vnd.jupyter.widget-state+json": {
    "state": {
     "0185fa1613484cabbe2cf09e6b7ee7e2": {
      "model_module": "@jupyter-widgets/base",
      "model_module_version": "1.2.0",
      "model_name": "LayoutModel",
      "state": {
       "margin": "0px 0px 0px 37px",
       "width": "600px"
      }
     },
     "04467408b088493bbe07fc34b9b374bc": {
      "model_module": "@jupyter-widgets/controls",
      "model_module_version": "1.5.0",
      "model_name": "ButtonModel",
      "state": {
       "button_style": "primary",
       "description": "Clear",
       "layout": "IPY_MODEL_e80c5d951e9e4a7c8aa9770f312b01ca",
       "style": "IPY_MODEL_971c5f5cb6284671921718e0ee33f014"
      }
     },
     "136c03e7fb2e491aa17778a468a8ae25": {
      "model_module": "@jupyter-widgets/controls",
      "model_module_version": "1.5.0",
      "model_name": "HBoxModel",
      "state": {
       "children": [
        "IPY_MODEL_301d4042ee6b44e09a702820687499f2",
        "IPY_MODEL_58557fb2e5204f6888f994cc9042ec74",
        "IPY_MODEL_ca1497b6114d4717bab240def8b46b50",
        "IPY_MODEL_66bfcb4cc3c545418b823fdf259132c8",
        "IPY_MODEL_370562eae4e342388943722564ef8aad"
       ],
       "layout": "IPY_MODEL_0185fa1613484cabbe2cf09e6b7ee7e2"
      }
     },
     "1913599323af439caf74e3470f67cc67": {
      "model_module": "@jupyter-widgets/controls",
      "model_module_version": "1.5.0",
      "model_name": "HTMLModel",
      "state": {
       "layout": "IPY_MODEL_34d8f5510ba04cbabe693d72d03c9c8f",
       "style": "IPY_MODEL_81315be8df6c45439e835c9bf73dd3c6",
       "value": "<p style='font-family: IBM Plex Sans, Arial, Helvetica, sans-serif; font-size: 20px; font-weight: medium;'>Circuit Properties</p>"
      }
     },
     "1956441fc5a141519e6d916f12cd5c53": {
      "model_module": "@jupyter-widgets/base",
      "model_module_version": "1.2.0",
      "model_name": "LayoutModel",
      "state": {
       "width": "145px"
      }
     },
     "27c6f14a1c22439c90a3ac2f820535a7": {
      "model_module": "@jupyter-widgets/controls",
      "model_module_version": "1.5.0",
      "model_name": "DescriptionStyleModel",
      "state": {
       "description_width": ""
      }
     },
     "301d4042ee6b44e09a702820687499f2": {
      "model_module": "@jupyter-widgets/controls",
      "model_module_version": "1.5.0",
      "model_name": "HTMLModel",
      "state": {
       "layout": "IPY_MODEL_f1d93ffbf738421091b74ddd7caa870c",
       "style": "IPY_MODEL_a785c5a2c37c49a6869c48e5f863d5fa",
       "value": "<h5>Job ID</h5>"
      }
     },
     "34d8f5510ba04cbabe693d72d03c9c8f": {
      "model_module": "@jupyter-widgets/base",
      "model_module_version": "1.2.0",
      "model_name": "LayoutModel",
      "state": {
       "margin": "0px 0px 10px 0px"
      }
     },
     "370562eae4e342388943722564ef8aad": {
      "model_module": "@jupyter-widgets/controls",
      "model_module_version": "1.5.0",
      "model_name": "HTMLModel",
      "state": {
       "layout": "IPY_MODEL_d2ef788d1e7e4093bafafc0d52dcb3ea",
       "style": "IPY_MODEL_73c3cab8037f44c681a0c2f6cff67c16",
       "value": "<h5>Message</h5>"
      }
     },
     "553949fd387c46eb8ce349f67703e5b0": {
      "model_module": "@jupyter-widgets/base",
      "model_module_version": "1.2.0",
      "model_name": "LayoutModel",
      "state": {
       "width": "70px"
      }
     },
     "58557fb2e5204f6888f994cc9042ec74": {
      "model_module": "@jupyter-widgets/controls",
      "model_module_version": "1.5.0",
      "model_name": "HTMLModel",
      "state": {
       "layout": "IPY_MODEL_1956441fc5a141519e6d916f12cd5c53",
       "style": "IPY_MODEL_27c6f14a1c22439c90a3ac2f820535a7",
       "value": "<h5>Backend</h5>"
      }
     },
     "61befcffa2654f5e881595d20b014fec": {
      "model_module": "@jupyter-widgets/controls",
      "model_module_version": "1.5.0",
      "model_name": "DescriptionStyleModel",
      "state": {
       "description_width": ""
      }
     },
     "66bfcb4cc3c545418b823fdf259132c8": {
      "model_module": "@jupyter-widgets/controls",
      "model_module_version": "1.5.0",
      "model_name": "HTMLModel",
      "state": {
       "layout": "IPY_MODEL_553949fd387c46eb8ce349f67703e5b0",
       "style": "IPY_MODEL_df958c906a3745ef865adf6f572c10a2",
       "value": "<h5>Queue</h5>"
      }
     },
     "73c3cab8037f44c681a0c2f6cff67c16": {
      "model_module": "@jupyter-widgets/controls",
      "model_module_version": "1.5.0",
      "model_name": "DescriptionStyleModel",
      "state": {
       "description_width": ""
      }
     },
     "81315be8df6c45439e835c9bf73dd3c6": {
      "model_module": "@jupyter-widgets/controls",
      "model_module_version": "1.5.0",
      "model_name": "DescriptionStyleModel",
      "state": {
       "description_width": ""
      }
     },
     "971c5f5cb6284671921718e0ee33f014": {
      "model_module": "@jupyter-widgets/controls",
      "model_module_version": "1.5.0",
      "model_name": "ButtonStyleModel",
      "state": {}
     },
     "9c954d59a5c14e638d7cf73fd1b3e508": {
      "model_module": "@jupyter-widgets/controls",
      "model_module_version": "1.5.0",
      "model_name": "GridBoxModel",
      "state": {
       "children": [
        "IPY_MODEL_04467408b088493bbe07fc34b9b374bc"
       ],
       "layout": "IPY_MODEL_c4d76bc624434231a107edfdcfe4bd50"
      }
     },
     "a785c5a2c37c49a6869c48e5f863d5fa": {
      "model_module": "@jupyter-widgets/controls",
      "model_module_version": "1.5.0",
      "model_name": "DescriptionStyleModel",
      "state": {
       "description_width": ""
      }
     },
     "c45f450d5e584537b2893a8fc0b68ee0": {
      "model_module": "@jupyter-widgets/base",
      "model_module_version": "1.2.0",
      "model_name": "LayoutModel",
      "state": {
       "width": "95px"
      }
     },
     "c4d76bc624434231a107edfdcfe4bd50": {
      "model_module": "@jupyter-widgets/base",
      "model_module_version": "1.2.0",
      "model_name": "LayoutModel",
      "state": {
       "grid_template_areas": "\n                                       \". . . . right \"\n                                        ",
       "grid_template_columns": "20% 20% 20% 20% 20%",
       "width": "100%"
      }
     },
     "ca1497b6114d4717bab240def8b46b50": {
      "model_module": "@jupyter-widgets/controls",
      "model_module_version": "1.5.0",
      "model_name": "HTMLModel",
      "state": {
       "layout": "IPY_MODEL_c45f450d5e584537b2893a8fc0b68ee0",
       "style": "IPY_MODEL_61befcffa2654f5e881595d20b014fec",
       "value": "<h5>Status</h5>"
      }
     },
     "d2ef788d1e7e4093bafafc0d52dcb3ea": {
      "model_module": "@jupyter-widgets/base",
      "model_module_version": "1.2.0",
      "model_name": "LayoutModel",
      "state": {}
     },
     "df958c906a3745ef865adf6f572c10a2": {
      "model_module": "@jupyter-widgets/controls",
      "model_module_version": "1.5.0",
      "model_name": "DescriptionStyleModel",
      "state": {
       "description_width": ""
      }
     },
     "e80c5d951e9e4a7c8aa9770f312b01ca": {
      "model_module": "@jupyter-widgets/base",
      "model_module_version": "1.2.0",
      "model_name": "LayoutModel",
      "state": {
       "grid_area": "right",
       "padding": "0px 0px 0px 0px",
       "width": "70px"
      }
     },
     "f1d93ffbf738421091b74ddd7caa870c": {
      "model_module": "@jupyter-widgets/base",
      "model_module_version": "1.2.0",
      "model_name": "LayoutModel",
      "state": {
       "width": "190px"
      }
     }
    },
    "version_major": 2,
    "version_minor": 0
   }
  }
 },
 "nbformat": 4,
 "nbformat_minor": 5
}
